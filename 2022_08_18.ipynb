{
 "cells": [
  {
   "cell_type": "markdown",
   "id": "4a3ece68-c03e-4ea5-bce3-7b6c27418bdf",
   "metadata": {},
   "source": [
    "# Weather Model Markov Model\n",
    "Do rain, groundwater, vegetation only first"
   ]
  },
  {
   "cell_type": "markdown",
   "id": "b572e2b2-c0a1-4ded-afe3-8a8cacb7d7a2",
   "metadata": {},
   "source": [
    "System dynamics\n",
    "Stochastic differential equations\n",
    "\n",
    "\n",
    "see app.similin.com"
   ]
  },
  {
   "cell_type": "markdown",
   "id": "7edc9313-05a3-4b67-9724-919f210152e5",
   "metadata": {},
   "source": [
    "Ben said stochasitc differential equations after I mentioned sort of simulating a bunch of continuous models that get stochastically modified by probabilistic variables (like pymc on top of continuous diff eq? I want to run sampler simulations and get output distributions for the vars) "
   ]
  },
  {
   "cell_type": "markdown",
   "id": "60e0ffe3-f921-410a-8644-11139f9d30ed",
   "metadata": {},
   "source": [
    "stochastic differential equations are too confusing, it seems like differential equations in general might be overkill? How does insightmaker do it?\n",
    "\n",
    "we should be able to just define relations by timestep (see https://insightmaker.com/insight/5LuinsByU9RToTCLN8UspW/Predator-Prey-Interactions) (what's the value gonna be at timestep t+1 given the other variables at time step t)\n",
    "\n",
    "This allows us to also more easily incorporate stocastic variables, as we simulate things (with a random variable) and then simulate it a bunch and see the distribution of outputs after a given timestep.\n"
   ]
  },
  {
   "cell_type": "code",
   "execution_count": null,
   "id": "a3b7b849-1d06-495f-82eb-8d5f64b4212c",
   "metadata": {},
   "outputs": [],
   "source": []
  }
 ],
 "metadata": {
  "kernelspec": {
   "display_name": "Python 3 (ipykernel)",
   "language": "python",
   "name": "python3"
  },
  "language_info": {
   "codemirror_mode": {
    "name": "ipython",
    "version": 3
   },
   "file_extension": ".py",
   "mimetype": "text/x-python",
   "name": "python",
   "nbconvert_exporter": "python",
   "pygments_lexer": "ipython3",
   "version": "3.10.5"
  }
 },
 "nbformat": 4,
 "nbformat_minor": 5
}
