


class Stock:
    def __add__(self, other):
        # add an addition node to the tree
        pass


clouds = Stock()
groundwater = Stock()
food = Stock()


food = [groundwater]*2


food |= (~clouds + 3) * groundwater


food <= (~clouds + 3) * groundwater
