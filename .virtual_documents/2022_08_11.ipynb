





import numpy as np


from dataclasses import dataclass


@dataclass
class LVEcosystemModel:
    """Lotka-Volterra predator/prey model. (https://en.wikipedia.org/wiki/Lotka%E2%80%93Volterra_equations)"""

    alpha: float = 1.0
    """Birthrate of prey (x)."""
    beta: float = 1.0
    """Rate at which predators (y) eat prey (x)."""
    gamma: float = 1.0
    """Birthrate of predators (y)."""
    delta: float = 1.0
    """Rate at which predators die naturally."""

    x0: int = 10
    """Initial prey population."""
    y0: int = 2
    """Initial predators population."""


# def LotkaVolterra(X, model=LVEcosystemModel()):
#     return np.array([
#         model.alpha * X[0] - model.beta * X[0] * X[1],
#         model.delta * X[0] * X[1] - model.gamma * X[1]
#     ])

# def LVJacobian(x, y, model=LVEcosystemModel()):
#     """Takes the jacobian matrix of a LotkaVolterra model."""
#     return np.matrix([[model.alpha - model.beta * y, -model.beta * x     ],
#                       [model.delta * y,               model.delta * x - y]])




from scipy.integrate import odeint

model = LVEcosystemModel()

solution = odeint(
    LotkaVolterra,
    np.array([
       model.x0, 
       model.y0, 
    ]),
    np.linspace(0, 10, 500),
)


def f(x):
    return x

interact(f, x=10)


get_ipython().run_line_magic("matplotlib", " inline")
from ipywidgets import interact
import ipywidgets as widgets
from IPython.display import display

from collections.abc import Callable


def ParameterizedLV(model: LVEcosystemModel) -> Callable:
    """Function factory! Make an LV function that scipy odeint can call."""
    
    def LotkaVolterra2(X, t):
        return np.array([
            model.alpha * X[0] - model.beta * X[0] * X[1],
            model.delta * X[0] * X[1] - model.gamma * X[1]
        ])
    
    return LotkaVolterra2


def simulate(prey_birth: float, pred_eat_prey: float, pred_birth: float, pred_die: float, prey_initial: int, pred_initial: int, time_length: int, high_res: bool):
    model = LVEcosystemModel(
        alpha=prey_birth,
        beta=pred_eat_prey,
        gamma=pred_birth,
        delta=pred_die,
        x0=prey_initial,
        y0=pred_initial
    )
    
    if high_res:
        num_points = 1000
    else:
        num_points = 100
        
    timespace = np.linspace(0, time_length, num_points)
    
    solution = odeint(
        ParameterizedLV(model),
        np.array([
           model.x0, 
           model.y0, 
        ]),
        timespace,
    )
    
    fig, ax = plt.subplots(1, 2, figsize=(15,10))
    lines = ax[0].plot(solution)
    ax[0].set_title("Populations")
    ax[0].set_xlabel("Time")
    ax[0].set_ylabel("Pop")
    ax[0].legend(lines, ["Prey", "Pred"])

    ax[1].plot(solution[:, 0], solution[:, 1])
    ax[1].scatter(solution[0, 0], solution[0,1])
    ax[1].set_title("Phase")
    ax[1].set_xlabel("Prey")
    ax[1].set_ylabel("Pred")

    plt.show(fig)
    plt.close(fig)
    
    
display(interact(
    simulate,
    prey_birth=widgets.FloatSlider(min=0.0, max=10.0, step=.2, value=1.0),
    pred_eat_prey=widgets.FloatSlider(min=0.0, max=10.0, step=.2, value=1.0),
    pred_birth=widgets.FloatSlider(min=0.0, max=10.0, step=.2, value=1.0), 
    pred_die=widgets.FloatSlider(min=0.0, max=10.0, step=.2, value=1.0),
    prey_initial=widgets.IntSlider(min=1, max=100, step=1, value=10), 
    pred_initial=widgets.IntSlider(min=1, max=100, step=1, value=10),
    time_length=10,
    high_res=False
))
