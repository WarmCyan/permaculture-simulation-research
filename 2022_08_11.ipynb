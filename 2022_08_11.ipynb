{
 "cells": [
  {
   "cell_type": "code",
   "execution_count": null,
   "id": "516d508a-acf5-43ca-bc61-37ad868cf7b3",
   "metadata": {},
   "outputs": [],
   "source": []
  },
  {
   "cell_type": "markdown",
   "id": "30c9f2d6-f537-4739-9ff0-692249bfc58d",
   "metadata": {},
   "source": [
    "# Outline\n",
    "\n",
    "1. Identify key independent systems to simulate\n",
    "2. Build separate simulations and visualizations for each one\n",
    "3. Build interfaces between systems\n",
    "4. Make combined metrics and controls over the whole sim\n",
    "5. Notice emergent / interesting behavior, use as a guide for where to add detail\n",
    "\n",
    "Repeat as necessary, ideally quickly"
   ]
  },
  {
   "cell_type": "markdown",
   "id": "c63c3443-c38d-4731-8783-e5286232ff4c",
   "metadata": {},
   "source": [
    "# Potential Systems\n",
    "\n",
    "## Initial Systems\n",
    "\n",
    "* Weather/geology (+lighting) (+zone)\n",
    "* Ecosystem (food, animals, yadda yadda)\n",
    "* Infrastructure\n",
    "* Economic\n",
    "* Social\n",
    "\n",
    "## Potential Future Systems\n",
    "\n",
    "* Energy Grid\n",
    "* Regional Stuff\n",
    "* Culture Groups  / [e|i]mmigration\n",
    "* Memetics"
   ]
  },
  {
   "cell_type": "markdown",
   "id": "ae89e6bf-bd13-4d86-8c52-8de5b8b3e099",
   "metadata": {},
   "source": [
    "# Potential Later Variables \n",
    "\n"
   ]
  },
  {
   "cell_type": "markdown",
   "id": "046ff98a-e39f-4e33-943c-7f04a6491a1c",
   "metadata": {},
   "source": [
    "# Resources\n",
    "\n",
    "## Videos\n",
    "  + [What is Solarpunk?](https://www.youtube.com/watch?v=hHI61GHNGJM) (and [Andrewism](https://www.youtube.com/c/Andrewism))\n",
    "  + [Places to build a home or village](https://www.youtube.com/watch?v=0Trz6NvsUQQ)\n",
    "  + [Permaculture Design by Sectors](https://www.youtube.com/watch?v=233GgYhtoGs)\n",
    "  + [Recycling Water](https://www.youtube.com/watch?v=f-sRcVkZ9yg)\n",
    "  + [Andrew Millision](https://www.youtube.com/c/amillison)\n",
    "  + [Simulating the Evolution of Predation](https://www.youtube.com/watch?v=rPkMoFJNcLA)"
   ]
  },
  {
   "cell_type": "code",
   "execution_count": null,
   "id": "7b2b681f-4a49-4419-b303-618de7f5f8ac",
   "metadata": {},
   "outputs": [],
   "source": []
  },
  {
   "cell_type": "markdown",
   "id": "c166f603-af32-47f0-b369-2f29ef36de3e",
   "metadata": {},
   "source": [
    "# System Design\n",
    "\n",
    "## Ecosystem\n",
    "Grid-based (diffusion) many-species [Lotka-Volterra](https://en.wikipedia.org/wiki/Lotka%E2%80%93Volterra_equations)\n",
    "...or maybe no grid for now"
   ]
  },
  {
   "cell_type": "code",
   "execution_count": 1,
   "id": "d90388dd-b28c-410a-8ce6-c4b646f01597",
   "metadata": {},
   "outputs": [],
   "source": [
    "import numpy as np"
   ]
  },
  {
   "cell_type": "markdown",
   "id": "a85c7596-2b03-4384-afdd-06d6a606c3b3",
   "metadata": {},
   "source": [
    "### Prey formula:\n",
    "\n",
    "$x$ is the quantity of prey, $y$ is the quantity of predators.\n",
    "\n",
    "$\\alpha$ is the birthrate of the prey, $\\beta$ is the rate at which predators eat the prey.\n",
    "\n",
    "\n",
    "$$\\frac{dx}{dt} = \\alpha x - \\beta x y$$\n",
    "\n",
    "\n",
    "### Predators formula:\n",
    "\n",
    "$\\delta$ is the rate at which predators die naturally, $\\gamma$ is the birthrate of the predators.\n",
    "\n",
    "$$\\frac{dy}{dt} = \\delta x y - \\gamma y$$\n",
    "\n",
    "\n",
    "### Limitations\n",
    "\n",
    "* Assumes prey has unlimited food"
   ]
  },
  {
   "cell_type": "code",
   "execution_count": 2,
   "id": "f2ad7595-1ddf-4aff-93d2-9614dff534af",
   "metadata": {},
   "outputs": [],
   "source": [
    "from dataclasses import dataclass\n",
    "\n",
    "\n",
    "@dataclass\n",
    "class LVEcosystemModel:\n",
    "    \"\"\"Lotka-Volterra predator/prey model. (https://en.wikipedia.org/wiki/Lotka%E2%80%93Volterra_equations)\"\"\"\n",
    "\n",
    "    alpha: float = 1.0\n",
    "    \"\"\"Birthrate of prey (x).\"\"\"\n",
    "    beta: float = 1.0\n",
    "    \"\"\"Rate at which predators (y) eat prey (x).\"\"\"\n",
    "    gamma: float = 1.0\n",
    "    \"\"\"Birthrate of predators (y).\"\"\"\n",
    "    delta: float = 1.0\n",
    "    \"\"\"Rate at which predators die naturally.\"\"\"\n",
    "\n",
    "    x0: int = 10\n",
    "    \"\"\"Initial prey population.\"\"\"\n",
    "    y0: int = 2\n",
    "    \"\"\"Initial predators population.\"\"\""
   ]
  },
  {
   "cell_type": "code",
   "execution_count": null,
   "id": "af3fe86d-9d83-4a34-abad-0ca95fdc0dc8",
   "metadata": {},
   "outputs": [],
   "source": [
    "# def LotkaVolterra(X, model=LVEcosystemModel()):\n",
    "#     return np.array([\n",
    "#         model.alpha * X[0] - model.beta * X[0] * X[1],\n",
    "#         model.delta * X[0] * X[1] - model.gamma * X[1]\n",
    "#     ])\n",
    "\n",
    "# def LVJacobian(x, y, model=LVEcosystemModel()):\n",
    "#     \"\"\"Takes the jacobian matrix of a LotkaVolterra model.\"\"\"\n",
    "#     return np.matrix([[model.alpha - model.beta * y, -model.beta * x     ],\n",
    "#                       [model.delta * y,               model.delta * x - y]])\n",
    "\n"
   ]
  },
  {
   "cell_type": "markdown",
   "id": "72cd8c6d-efb1-48f9-a60d-4a89494aee57",
   "metadata": {},
   "source": [
    "Jacobian matrix of a function is the matrix of all first order partial derivatives, in this case:\n",
    "\n",
    "$$\n",
    "\\begin{bmatrix}\n",
    "\\alpha - \\beta y & -\\beta x\\\\\n",
    "\\delta y & \\delta x - y\n",
    "\\end{bmatrix}\n",
    "$$"
   ]
  },
  {
   "cell_type": "code",
   "execution_count": 27,
   "id": "db589bb6-36bf-49ae-8e8d-b4c015949803",
   "metadata": {},
   "outputs": [],
   "source": [
    "from scipy.integrate import odeint\n",
    "\n",
    "model = LVEcosystemModel()\n",
    "\n",
    "solution = odeint(\n",
    "    LotkaVolterra,\n",
    "    np.array([\n",
    "       model.x0, \n",
    "       model.y0, \n",
    "    ]),\n",
    "    np.linspace(0, 10, 500),\n",
    ")"
   ]
  },
  {
   "cell_type": "code",
   "execution_count": 33,
   "id": "5ff2cfa2-9062-4154-a8a6-8f9b2f61ef5d",
   "metadata": {},
   "outputs": [
    {
     "data": {
      "application/vnd.jupyter.widget-view+json": {
       "model_id": "a9c1a791651e4ec4aeba3a293bbe4fd4",
       "version_major": 2,
       "version_minor": 0
      },
      "text/plain": [
       "interactive(children=(IntSlider(value=10, description='x', max=30, min=-10), Output()), _dom_classes=('widget-…"
      ]
     },
     "metadata": {},
     "output_type": "display_data"
    },
    {
     "data": {
      "text/plain": [
       "<function __main__.f(x)>"
      ]
     },
     "execution_count": 33,
     "metadata": {},
     "output_type": "execute_result"
    }
   ],
   "source": [
    "def f(x):\n",
    "    return x\n",
    "\n",
    "interact(f, x=10)"
   ]
  },
  {
   "cell_type": "code",
   "execution_count": 78,
   "id": "66984b59-3f41-4bdd-8bfa-97957c5875e0",
   "metadata": {},
   "outputs": [
    {
     "data": {
      "application/vnd.jupyter.widget-view+json": {
       "model_id": "c57be37d864b4258a55f8ec51410f996",
       "version_major": 2,
       "version_minor": 0
      },
      "text/plain": [
       "interactive(children=(FloatSlider(value=1.0, description='prey_birth', max=10.0, step=0.2), FloatSlider(value=…"
      ]
     },
     "metadata": {},
     "output_type": "display_data"
    },
    {
     "data": {
      "text/plain": [
       "<function __main__.simulate(prey_birth: float, pred_eat_prey: float, pred_birth: float, pred_die: float, prey_initial: int, pred_initial: int, time_length: int, high_res: bool)>"
      ]
     },
     "metadata": {},
     "output_type": "display_data"
    }
   ],
   "source": [
    "%matplotlib inline\n",
    "from ipywidgets import interact\n",
    "import ipywidgets as widgets\n",
    "from IPython.display import display\n",
    "\n",
    "from collections.abc import Callable\n",
    "\n",
    "\n",
    "def ParameterizedLV(model: LVEcosystemModel) -> Callable:\n",
    "    \"\"\"Function factory! Make an LV function that scipy odeint can call.\"\"\"\n",
    "    \n",
    "    def LotkaVolterra2(X, t):\n",
    "        return np.array([\n",
    "            model.alpha * X[0] - model.beta * X[0] * X[1],\n",
    "            model.delta * X[0] * X[1] - model.gamma * X[1]\n",
    "        ])\n",
    "    \n",
    "    return LotkaVolterra2\n",
    "\n",
    "\n",
    "def simulate(prey_birth: float, pred_eat_prey: float, pred_birth: float, pred_die: float, prey_initial: int, pred_initial: int, time_length: int, high_res: bool):\n",
    "    model = LVEcosystemModel(\n",
    "        alpha=prey_birth,\n",
    "        beta=pred_eat_prey,\n",
    "        gamma=pred_birth,\n",
    "        delta=pred_die,\n",
    "        x0=prey_initial,\n",
    "        y0=pred_initial\n",
    "    )\n",
    "    \n",
    "    if high_res:\n",
    "        num_points = 1000\n",
    "    else:\n",
    "        num_points = 100\n",
    "        \n",
    "    timespace = np.linspace(0, time_length, num_points)\n",
    "    \n",
    "    solution = odeint(\n",
    "        ParameterizedLV(model),\n",
    "        np.array([\n",
    "           model.x0, \n",
    "           model.y0, \n",
    "        ]),\n",
    "        timespace,\n",
    "    )\n",
    "    \n",
    "    fig, ax = plt.subplots(1, 2, figsize=(15,10))\n",
    "    lines = ax[0].plot(solution)\n",
    "    ax[0].set_title(\"Populations\")\n",
    "    ax[0].set_xlabel(\"Time\")\n",
    "    ax[0].set_ylabel(\"Pop\")\n",
    "    ax[0].legend(lines, [\"Prey\", \"Pred\"])\n",
    "\n",
    "    ax[1].plot(solution[:, 0], solution[:, 1])\n",
    "    ax[1].scatter(solution[0, 0], solution[0,1])\n",
    "    ax[1].set_title(\"Phase\")\n",
    "    ax[1].set_xlabel(\"Prey\")\n",
    "    ax[1].set_ylabel(\"Pred\")\n",
    "\n",
    "    plt.show(fig)\n",
    "    plt.close(fig)\n",
    "    \n",
    "    \n",
    "display(interact(\n",
    "    simulate,\n",
    "    prey_birth=widgets.FloatSlider(min=0.0, max=10.0, step=.2, value=1.0),\n",
    "    pred_eat_prey=widgets.FloatSlider(min=0.0, max=10.0, step=.2, value=1.0),\n",
    "    pred_birth=widgets.FloatSlider(min=0.0, max=10.0, step=.2, value=1.0), \n",
    "    pred_die=widgets.FloatSlider(min=0.0, max=10.0, step=.2, value=1.0),\n",
    "    prey_initial=widgets.IntSlider(min=1, max=100, step=1, value=10), \n",
    "    pred_initial=widgets.IntSlider(min=1, max=100, step=1, value=10),\n",
    "    time_length=10,\n",
    "    high_res=False\n",
    "))"
   ]
  },
  {
   "cell_type": "markdown",
   "id": "ea4c53b9-b85b-4b4c-92f8-150524d5b71b",
   "metadata": {},
   "source": [
    "# Notes\n",
    "\n",
    "Game design - if indicators are goals, what obstacles (do we put) in the way?\n",
    "\n",
    "Multiple villages to see trade/economic effects etc?\n",
    "\n",
    "Maybe to start with they exist in a vacuum (external infrastructure etc later)"
   ]
  }
 ],
 "metadata": {
  "kernelspec": {
   "display_name": "Python 3 (ipykernel)",
   "language": "python",
   "name": "python3"
  },
  "language_info": {
   "codemirror_mode": {
    "name": "ipython",
    "version": 3
   },
   "file_extension": ".py",
   "mimetype": "text/x-python",
   "name": "python",
   "nbconvert_exporter": "python",
   "pygments_lexer": "ipython3",
   "version": "3.10.5"
  }
 },
 "nbformat": 4,
 "nbformat_minor": 5
}
