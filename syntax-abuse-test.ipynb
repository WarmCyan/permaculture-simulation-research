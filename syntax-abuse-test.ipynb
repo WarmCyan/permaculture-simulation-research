{
 "cells": [
  {
   "cell_type": "code",
   "execution_count": 28,
   "id": "11cafe7b-92b1-405d-bea1-e398614e5ee0",
   "metadata": {},
   "outputs": [],
   "source": [
    "# class ComputeGraph:\n",
    "#     def __init__(self):\n",
    "#         self.graph = []\n",
    "\n",
    "\n",
    "# https://en.wikipedia.org/wiki/Genetic_programming#Program_representation\n",
    "\n",
    "class Tree:\n",
    "    def __init__(self, left_tree = None, right_tree = None, comment = None):\n",
    "        self.left_tree = left_tree\n",
    "        self.right_tree = right_tree\n",
    "        \n",
    "    def __add__(self, obj):\n",
    "        if type(obj) == int or type(obj) == float:\n",
    "            return Operation(\"+\", self, Scalar(obj))\n",
    "        else:\n",
    "            return Operation(\"+\", self, obj)\n",
    "        \n",
    "    def __sub__(self, obj):\n",
    "        if type(obj) == int or type(obj) == float:\n",
    "            return Operation(\"-\", self, Scalar(obj))\n",
    "        else:\n",
    "            return Operation(\"-\", self, obj)\n",
    "        \n",
    "    def __truediv__(self, obj): \n",
    "        if type(obj) == int or type(obj) == float:\n",
    "            return Operation(\"/\", self, Scalar(obj))\n",
    "        else:\n",
    "            return Operation(\"/\", self, obj)\n",
    "        \n",
    "    def __neg__(self):\n",
    "        return Operation(\"-\", Scalar(0), self)\n",
    "        \n",
    "    \n",
    "class Operation(Tree):\n",
    "    def __init__(self, op, left_tree = None, right_tree = None):\n",
    "        self.op = op\n",
    "        super().__init__(left_tree, right_tree, None)\n",
    "        \n",
    "    def __repr__(self):\n",
    "        return f\"({self.op} {self.left_tree.__repr__()} {self.right_tree.__repr__()})\"\n",
    "        \n",
    "class Scalar(Tree):\n",
    "    def __init__(self, scalar):\n",
    "        self.scalar = scalar\n",
    "        super().__init__(None, None, None)\n",
    "        \n",
    "    def __repr__(self):\n",
    "        return str(self.scalar)\n",
    "\n",
    "class Reference(Tree):\n",
    "    \"\"\"A reference to a flow, stock, or variable.\"\"\"\n",
    "    def __init__(self, name):\n",
    "        self.name = name\n",
    "        super().__init__(None, None, None)\n",
    "        \n",
    "    def __repr__(self):\n",
    "        return f\"\\\"{self.name}\\\"\"\n",
    "        \n",
    "        \n",
    "        \n",
    "        \n",
    "class Stock(Reference):\n",
    "    \"\"\"Implicit 'dt', must always keep backup of last val\"\"\"\n",
    "    \n",
    "    def __init__(self, *args, **kwargs):\n",
    "        super().__init__(*args, **kwargs)\n",
    "        \n",
    "    def __add__(self, obj):\n",
    "        pass\n",
    "        \n",
    "    def __div__(self, obj):\n",
    "        pass\n",
    "        \n",
    "\n",
    "        \n",
    "class Flow(Reference):\n",
    "    def __init__(self, *args, **kwargs):\n",
    "        super().__init__(*args, **kwargs)\n",
    "        \n"
   ]
  },
  {
   "cell_type": "code",
   "execution_count": 34,
   "id": "b3f92e35-83b9-4ec3-b030-33218e59760b",
   "metadata": {},
   "outputs": [
    {
     "data": {
      "text/plain": [
       "(- 0 4)"
      ]
     },
     "execution_count": 34,
     "metadata": {},
     "output_type": "execute_result"
    }
   ],
   "source": [
    "-Scalar(4)"
   ]
  },
  {
   "cell_type": "code",
   "execution_count": 35,
   "id": "0cf1389c-f103-4980-94c5-c7aceb5e9b22",
   "metadata": {},
   "outputs": [
    {
     "data": {
      "text/plain": [
       "(+ 5 (/ 4 \"groundwater\"))"
      ]
     },
     "execution_count": 35,
     "metadata": {},
     "output_type": "execute_result"
    }
   ],
   "source": [
    "Scalar(5) + Scalar(4) / Reference(\"groundwater\")"
   ]
  },
  {
   "cell_type": "code",
   "execution_count": 36,
   "id": "d047b7b0-3b54-417c-8d15-c4b3a6d147de",
   "metadata": {},
   "outputs": [
    {
     "data": {
      "text/plain": [
       "(/ (+ 5 4) \"groundwater\")"
      ]
     },
     "execution_count": 36,
     "metadata": {},
     "output_type": "execute_result"
    }
   ],
   "source": [
    "(Scalar(5) + Scalar(4)) / Reference(\"groundwater\")"
   ]
  },
  {
   "cell_type": "code",
   "execution_count": null,
   "id": "e5a8c3c3-e201-467f-a399-46af4781310b",
   "metadata": {},
   "outputs": [],
   "source": [
    "class Model:\n",
    "    def __init__(self):\n",
    "        self.things = {}\n",
    "        \n",
    "    # actually, as long as operations return a new thing, this should just work.\n",
    "    def __setattr__(self, name, value):\n",
    "        if name not in self.things:\n",
    "            self.things[name] = value\n",
    "        else:\n",
    "            self.things[name] = self.things[name] + value\n",
    "            \n",
    "    def _compile(self):\n",
    "        \"\"\"Write optimized jax operation list for computations into python file?\"\"\"\n",
    "        pass"
   ]
  },
  {
   "cell_type": "code",
   "execution_count": null,
   "id": "c007b397-7603-49e2-9b67-2643963c36e7",
   "metadata": {},
   "outputs": [],
   "source": [
    "\n",
    "\n",
    "\n",
    "\n",
    "\n",
    "m = Model()\n",
    "\n",
    "m.clouds = Stock()\n",
    "m.groundwater = Stock()\n",
    "m.food = Stock()\n",
    "\n",
    "m.food = (m.clouds + 3) * m.groundwater # an implicit flow?\n",
    "\n",
    "\n",
    "\n"
   ]
  },
  {
   "cell_type": "code",
   "execution_count": null,
   "id": "8a8b8682-5f3c-4712-a019-a188029d53b5",
   "metadata": {},
   "outputs": [],
   "source": [
    "# how do we model moving values from one stock to another?\n",
    "\n",
    "\n",
    "# involves one stock starting with an initial value, a flow, and another stock.\n",
    "\n",
    "m = Model()\n",
    "m.from_stock = Stock()\n",
    "m.to_stock = Stock()\n",
    "m.movement_flow = Flow()\n",
    "\n",
    "\n",
    "#m.flow(from_stock, to_stock, m.from_stock / 2)\n",
    "#m.to_stock <= m.from_stock / 2 # I think beyond simple cases it's too hard to imply what it's actually being removed \"from\"\n",
    "\n",
    "# a flow implies things leaving one stock and entering another.\n",
    "\n",
    "\n",
    "# way too verbose\n",
    "m.to_stock[m.t+1] = m.to_stock[m.t] + m.from_stock[m.t] / 2\n",
    "m.from_stock[m.t+1] = m.to_stock[m.t] + m.from_stock[m.t] / 2\n",
    "\n",
    "# more obvious directionality, but dislike\n",
    "m.movement_flow <= m.from_stock / 2\n",
    "m.to_stock <= m.movement_flow\n",
    "\n",
    "# from https://en.wikipedia.org/wiki/Stock_and_flow\n",
    "# \"stock\" = \"level\"\n",
    "# \"flow\" = \"rate\"\n",
    "# I prefer their \"order of execution\" translation formulas.\n",
    "# -----------------------------------\n",
    "m.movement_flow = m.from_stock / 2\n",
    "m.from_stock -= m.movement_flow\n",
    "m.to_stock += m.movement_flow\n",
    "# -----------------------------------\n",
    "# or (technically the more integral-y form, an implicit 'dt')\n",
    "# -----------------------------------\n",
    "m.movement_flow = m.from_stock / 2    << \"this is a test\"                               # two nodes: \"from_stock\" \"/ 2\"\n",
    "m.from_stock = -m.movement_flow       << \"We move out of from stock\"\n",
    "m.to_stock = m.movement_flow          << \"And into the to stock\"\n",
    "# -----------------------------------\n",
    "# then we can set initial conditions by overriding __getitem__:\n",
    "m.from_stock[0] = 10 # if we want to hold it static?\n",
    "\n",
    "\n"
   ]
  }
 ],
 "metadata": {
  "kernelspec": {
   "display_name": "Python 3 (ipykernel)",
   "language": "python",
   "name": "python3"
  },
  "language_info": {
   "codemirror_mode": {
    "name": "ipython",
    "version": 3
   },
   "file_extension": ".py",
   "mimetype": "text/x-python",
   "name": "python",
   "nbconvert_exporter": "python",
   "pygments_lexer": "ipython3",
   "version": "3.10.5"
  }
 },
 "nbformat": 4,
 "nbformat_minor": 5
}
