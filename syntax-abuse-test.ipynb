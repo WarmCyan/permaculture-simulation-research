{
 "cells": [
  {
   "cell_type": "code",
   "execution_count": 56,
   "id": "11cafe7b-92b1-405d-bea1-e398614e5ee0",
   "metadata": {},
   "outputs": [],
   "source": [
    "from IPython.display import Markdown\n",
    "from graphviz import Digraph, Graph\n",
    "\n",
    "# class ComputeGraph:\n",
    "#     def __init__(self):\n",
    "#         self.graph = []\n",
    "\n",
    "\n",
    "# https://en.wikipedia.org/wiki/Genetic_programming#Program_representation\n",
    "\n",
    "\n",
    "COLORS = [\"lightgrey\", \"pink\", \"lightgreen\", \"cyan\"]\n",
    "\n",
    "\n",
    "class Tree:\n",
    "    def __init__(self, value, left_tree = None, right_tree = None, comment = None):\n",
    "        self.value = value # unclear if necessary\n",
    "        self.left_tree = left_tree\n",
    "        self.right_tree = right_tree\n",
    "        self.comment = comment\n",
    "        \n",
    "    def __add__(self, obj):\n",
    "        if type(obj) == int or type(obj) == float:\n",
    "            return Operation(\"+\", self, Scalar(obj))\n",
    "        else:\n",
    "            return Operation(\"+\", self, obj)\n",
    "        \n",
    "    def __sub__(self, obj):\n",
    "        if type(obj) == int or type(obj) == float:\n",
    "            return Operation(\"-\", self, Scalar(obj))\n",
    "        else:\n",
    "            return Operation(\"-\", self, obj)\n",
    "        \n",
    "    def __mul__(self, obj):\n",
    "        if type(obj) == int or type(obj) == float:\n",
    "            return Operation(\"*\", self, Scalar(obj))\n",
    "        else:\n",
    "            return Operation(\"*\", self, obj)\n",
    "        \n",
    "    def __truediv__(self, obj): \n",
    "        if type(obj) == int or type(obj) == float:\n",
    "            return Operation(\"/\", self, Scalar(obj))\n",
    "        else:\n",
    "            return Operation(\"/\", self, obj)\n",
    "        \n",
    "    def __neg__(self):\n",
    "        return Operation(\"-\", Scalar(0), self)\n",
    "    \n",
    "    def __lshift__(self, obj):\n",
    "        self.comment = obj\n",
    "        return self\n",
    "    \n",
    "    def node(self, dot):\n",
    "        color = None\n",
    "        fillcolor = None\n",
    "        style = None\n",
    "        fontcolor = None\n",
    "        if isinstance(self, Operation):\n",
    "            color = \"blue\"\n",
    "        elif isinstance(self, Stock):\n",
    "            style = \"filled\"\n",
    "            fillcolor = \"orange\"\n",
    "        elif isinstance(self, Flow):\n",
    "            style = \"filled\"\n",
    "            fillcolor = \"purple\"\n",
    "            fontcolor = \"white\"\n",
    "            \n",
    "        dot.node(name=str(id(self)), label=str(self.value), color=color, fillcolor=fillcolor, style=style, fontcolor=fontcolor)\n",
    "    \n",
    "    def visualize(self, dot=None, comments=False, comment_colors_used=[]):\n",
    "        if dot is None:\n",
    "            dot = Digraph()\n",
    "            \n",
    "        # g = dot\n",
    "        \n",
    "        # TODO: it would be convenient if it was possible to only draw the comment block around leaves and parent, I need to figure out a way to define the boundaries that a comment actually applies to. \n",
    "        \n",
    "        if comments and self.comment is not None:\n",
    "            sub_color = None\n",
    "            for color in COLORS:\n",
    "                if color not in comment_colors_used:\n",
    "                    sub_color = color\n",
    "                    break\n",
    "            if sub_color is None:\n",
    "                comment_colors_used = []\n",
    "                sub_color = COLORS[0]\n",
    "            comment_colors_used.append(sub_color)\n",
    "            \n",
    "            with dot.subgraph(name=f\"cluster_commented{id(self)}\", body=[\"style=filled\\n\", f\"fillcolor={sub_color}\\n\", f\"label=\\\"{self.comment}\\\"\\n\", \"labelloc=b\\n\"]) as g:\n",
    "                \n",
    "                self._visualize_inner(g, comments, comment_colors_used)\n",
    "                \n",
    "#                 self.node(g)\n",
    "\n",
    "#                 if self.left_tree:\n",
    "#                     g.edge(str(id(self.left_tree)), str(id(self)))\n",
    "#                     g = self.left_tree.visualize(g, comments, comment_colors_used)\n",
    "\n",
    "#                 if self.right_tree:\n",
    "#                     g.edge(str(id(self.right_tree)), str(id(self)))\n",
    "#                     g = self.right_tree.visualize(g, comments, comment_colors_used)\n",
    "            \n",
    "        else:\n",
    "            self._visualize_inner(dot, comments, comment_colors_used)\n",
    "#             self.node(dot)\n",
    "\n",
    "#             if self.left_tree:\n",
    "#                 dot.edge(str(id(self.left_tree)), str(id(self)))\n",
    "#                 dot = self.left_tree.visualize(dot)\n",
    "\n",
    "#             if self.right_tree:\n",
    "#                 dot.edge(str(id(self.right_tree)), str(id(self)))\n",
    "#                 dot = self.right_tree.visualize(dot)\n",
    "            \n",
    "        return dot\n",
    "\n",
    "    def _visualize_inner(self, g, comments, comment_colors_used):\n",
    "        self.node(g)\n",
    "\n",
    "        if self.left_tree:\n",
    "            g.edge(str(id(self.left_tree)), str(id(self)))\n",
    "            g = self.left_tree.visualize(g, comments, comment_colors_used)\n",
    "\n",
    "        if self.right_tree:\n",
    "            g.edge(str(id(self.right_tree)), str(id(self)))\n",
    "            g = self.right_tree.visualize(g, comments, comment_colors_used)\n",
    "            \n",
    "        return g\n",
    "    \n",
    "            \n",
    "        \n",
    "    \n",
    "class Operation(Tree):\n",
    "    def __init__(self, op, left_tree = None, right_tree = None):\n",
    "        self.op = op\n",
    "        super().__init__(op, left_tree, right_tree, None)\n",
    "        \n",
    "    def __repr__(self):\n",
    "        return f\"({self.op} {self.left_tree.__repr__()} {self.right_tree.__repr__()})\"\n",
    "    \n",
    "    def latex(self, annotations=False): #recursive\n",
    "        return Markdown(f\"${self.latex_str(annotations)}$\")\n",
    "        \n",
    "    def latex_str(self, annotations=False, top=False):\n",
    "        if annotations and self.comment is not None:\n",
    "            top = not top\n",
    "            \n",
    "        latex_left = self.left_tree.latex_str(annotations, top) if self.left_tree is not None else \"\"\n",
    "        latex_right = self.right_tree.latex_str(annotations, top) if self.right_tree is not None else \"\"\n",
    "            \n",
    "        core = \"\"\n",
    "        if self.op == \"+\":\n",
    "            core = f\"{latex_left}+{latex_right}\"\n",
    "        elif self.op == \"-\":\n",
    "            core = f\"{latex_left}-{latex_right}\"\n",
    "        elif self.op == \"*\":\n",
    "            core = f\"{latex_left}*{latex_right}\"\n",
    "        elif self.op == \"/\":\n",
    "            core = f\"\\\\frac{{{latex_left}}}{{{latex_right}}}\"\n",
    "            \n",
    "        if annotations and self.comment is not None:\n",
    "            if top:\n",
    "                core = f\"\\\\overbrace{{{core}}}^{{\\\\texttt{{{self.comment}}}}}\"\n",
    "            else:\n",
    "                core = f\"\\\\underbrace{{{core}}}_{{\\\\texttt{{{self.comment}}}}}\"\n",
    "            \n",
    "            \n",
    "        return core\n",
    "            \n",
    "        \n",
    "        \n",
    "        \n",
    "class Scalar(Tree):\n",
    "    def __init__(self, scalar):\n",
    "        self.scalar = scalar\n",
    "        super().__init__(scalar, None, None, None)\n",
    "        \n",
    "    def __repr__(self):\n",
    "        return str(self.scalar)\n",
    "    \n",
    "    def __eq__(self, obj):\n",
    "        if not isinstance(obj, Scalar):\n",
    "            return False\n",
    "        return self.scalar == obj.scalar\n",
    "    \n",
    "    def latex_str(self, annotations=False, top=False):\n",
    "        if self.scalar == 0:  \n",
    "            return \"\" # so that negated vals don't always show a 0-\n",
    "        else:\n",
    "            return str(self.scalar)\n",
    "    \n",
    "\n",
    "class Reference(Tree):\n",
    "    \"\"\"A reference to a flow, stock, or variable.\"\"\"\n",
    "    def __init__(self, name):\n",
    "        self.name = name\n",
    "        self.latex_shorthand = \"\"\n",
    "        self.description = \"\" # different from comment?\n",
    "        super().__init__(name, None, None, None)\n",
    "        \n",
    "    def __repr__(self):\n",
    "        return f\"\\\"{self.name}\\\"\"\n",
    "        \n",
    "    def latex_str(self, annotations=False, top=False):\n",
    "        return f\"\\\\mathit{{{self.name}}}\"\n",
    "        pass\n",
    "        \n",
    "        \n",
    "        \n",
    "class Stock(Reference):\n",
    "    \"\"\"Implicit 'dt', must always keep backup of last val\"\"\"\n",
    "    \n",
    "    def __init__(self, *args, **kwargs):\n",
    "        super().__init__(*args, **kwargs)\n",
    "        \n",
    "\n",
    "        \n",
    "class Flow(Reference):\n",
    "    \"\"\"Flows must be calculated first. Using a flow in a formula means using 'this timestep's value', unlike stocks.\"\"\"\n",
    "    def __init__(self, *args, **kwargs):\n",
    "        super().__init__(*args, **kwargs)\n",
    "        \n",
    "\n"
   ]
  },
  {
   "cell_type": "markdown",
   "id": "cb6445bb-39f6-4566-a36e-4841269d7ddf",
   "metadata": {},
   "source": [
    "$\\mathit{test}$"
   ]
  },
  {
   "cell_type": "code",
   "execution_count": 57,
   "id": "b3f92e35-83b9-4ec3-b030-33218e59760b",
   "metadata": {},
   "outputs": [
    {
     "data": {
      "text/plain": [
       "(- 0 4)"
      ]
     },
     "execution_count": 57,
     "metadata": {},
     "output_type": "execute_result"
    }
   ],
   "source": [
    "-Scalar(4)"
   ]
  },
  {
   "cell_type": "code",
   "execution_count": 58,
   "id": "0cf1389c-f103-4980-94c5-c7aceb5e9b22",
   "metadata": {},
   "outputs": [
    {
     "data": {
      "text/plain": [
       "(+ 5 (/ 4 \"groundwater\"))"
      ]
     },
     "execution_count": 58,
     "metadata": {},
     "output_type": "execute_result"
    }
   ],
   "source": [
    "Scalar(5) + Scalar(4) / Reference(\"groundwater\")"
   ]
  },
  {
   "cell_type": "code",
   "execution_count": 59,
   "id": "d047b7b0-3b54-417c-8d15-c4b3a6d147de",
   "metadata": {},
   "outputs": [
    {
     "data": {
      "text/plain": [
       "(/ (+ 5 4) \"groundwater\")"
      ]
     },
     "execution_count": 59,
     "metadata": {},
     "output_type": "execute_result"
    }
   ],
   "source": [
    "(Scalar(5) + Scalar(4)) / Reference(\"groundwater\")"
   ]
  },
  {
   "cell_type": "code",
   "execution_count": 60,
   "id": "aae8f396-2c78-4a23-b20b-f29c662df6c3",
   "metadata": {},
   "outputs": [
    {
     "data": {
      "text/markdown": [
       "$5+\\frac{4}{\\mathit{groundwater}}$"
      ],
      "text/plain": [
       "<IPython.core.display.Markdown object>"
      ]
     },
     "execution_count": 60,
     "metadata": {},
     "output_type": "execute_result"
    }
   ],
   "source": [
    "(Scalar(5) + Scalar(4) / Reference(\"groundwater\")).latex()"
   ]
  },
  {
   "cell_type": "code",
   "execution_count": 61,
   "id": "b2466d1c-de63-4f74-bb29-34542a94d70d",
   "metadata": {},
   "outputs": [
    {
     "data": {
      "text/markdown": [
       "$5+\\frac{4}{\\mathit{groundwater}}$"
      ],
      "text/plain": [
       "<IPython.core.display.Markdown object>"
      ]
     },
     "execution_count": 61,
     "metadata": {},
     "output_type": "execute_result"
    }
   ],
   "source": [
    "(Scalar(5) + Scalar(4) / Stock(name=\"groundwater\")).latex()"
   ]
  },
  {
   "cell_type": "code",
   "execution_count": 62,
   "id": "90d33973-3d6f-48e6-80e9-d42fbaabcd8e",
   "metadata": {},
   "outputs": [
    {
     "data": {
      "text/markdown": [
       "$\\frac{5+4}{\\mathit{groundwater}}$"
      ],
      "text/plain": [
       "<IPython.core.display.Markdown object>"
      ]
     },
     "execution_count": 62,
     "metadata": {},
     "output_type": "execute_result"
    }
   ],
   "source": [
    "((Scalar(5) + Scalar(4)) / Reference(\"groundwater\")).latex()"
   ]
  },
  {
   "cell_type": "code",
   "execution_count": 63,
   "id": "ad5d7f9a-2a6a-4456-9132-79818f3d015e",
   "metadata": {},
   "outputs": [
    {
     "data": {
      "image/svg+xml": [
       "<?xml version=\"1.0\" encoding=\"UTF-8\" standalone=\"no\"?>\n",
       "<!DOCTYPE svg PUBLIC \"-//W3C//DTD SVG 1.1//EN\"\n",
       " \"http://www.w3.org/Graphics/SVG/1.1/DTD/svg11.dtd\">\n",
       "<!-- Generated by graphviz version 4.0.0 (0)\n",
       " -->\n",
       "<!-- Pages: 1 -->\n",
       "<svg width=\"226pt\" height=\"188pt\"\n",
       " viewBox=\"0.00 0.00 226.25 188.00\" xmlns=\"http://www.w3.org/2000/svg\" xmlns:xlink=\"http://www.w3.org/1999/xlink\">\n",
       "<g id=\"graph0\" class=\"graph\" transform=\"scale(1 1) rotate(0) translate(4 184)\">\n",
       "<polygon fill=\"white\" stroke=\"transparent\" points=\"-4,4 -4,-184 222.25,-184 222.25,4 -4,4\"/>\n",
       "<!-- 140505446164624 -->\n",
       "<g id=\"node1\" class=\"node\">\n",
       "<title>140505446164624</title>\n",
       "<ellipse fill=\"none\" stroke=\"blue\" cx=\"113\" cy=\"-18\" rx=\"27\" ry=\"18\"/>\n",
       "<text text-anchor=\"middle\" x=\"113\" y=\"-14.3\" font-family=\"Times,serif\" font-size=\"14.00\">/</text>\n",
       "</g>\n",
       "<!-- 140505446159824 -->\n",
       "<g id=\"node2\" class=\"node\">\n",
       "<title>140505446159824</title>\n",
       "<ellipse fill=\"none\" stroke=\"blue\" cx=\"63\" cy=\"-90\" rx=\"27\" ry=\"18\"/>\n",
       "<text text-anchor=\"middle\" x=\"63\" y=\"-86.3\" font-family=\"Times,serif\" font-size=\"14.00\">+</text>\n",
       "</g>\n",
       "<!-- 140505446159824&#45;&gt;140505446164624 -->\n",
       "<g id=\"edge1\" class=\"edge\">\n",
       "<title>140505446159824&#45;&gt;140505446164624</title>\n",
       "<path fill=\"none\" stroke=\"black\" d=\"M74.1,-73.46C80.51,-64.49 88.7,-53.02 95.92,-42.92\"/>\n",
       "<polygon fill=\"black\" stroke=\"black\" points=\"98.97,-44.66 101.93,-34.49 93.27,-40.59 98.97,-44.66\"/>\n",
       "</g>\n",
       "<!-- 140505446162704 -->\n",
       "<g id=\"node3\" class=\"node\">\n",
       "<title>140505446162704</title>\n",
       "<ellipse fill=\"none\" stroke=\"black\" cx=\"27\" cy=\"-162\" rx=\"27\" ry=\"18\"/>\n",
       "<text text-anchor=\"middle\" x=\"27\" y=\"-158.3\" font-family=\"Times,serif\" font-size=\"14.00\">5</text>\n",
       "</g>\n",
       "<!-- 140505446162704&#45;&gt;140505446159824 -->\n",
       "<g id=\"edge2\" class=\"edge\">\n",
       "<title>140505446162704&#45;&gt;140505446159824</title>\n",
       "<path fill=\"none\" stroke=\"black\" d=\"M35.35,-144.76C39.71,-136.28 45.15,-125.71 50.04,-116.2\"/>\n",
       "<polygon fill=\"black\" stroke=\"black\" points=\"53.23,-117.64 54.7,-107.15 47.01,-114.44 53.23,-117.64\"/>\n",
       "</g>\n",
       "<!-- 140505446163712 -->\n",
       "<g id=\"node4\" class=\"node\">\n",
       "<title>140505446163712</title>\n",
       "<ellipse fill=\"none\" stroke=\"black\" cx=\"99\" cy=\"-162\" rx=\"27\" ry=\"18\"/>\n",
       "<text text-anchor=\"middle\" x=\"99\" y=\"-158.3\" font-family=\"Times,serif\" font-size=\"14.00\">4</text>\n",
       "</g>\n",
       "<!-- 140505446163712&#45;&gt;140505446159824 -->\n",
       "<g id=\"edge3\" class=\"edge\">\n",
       "<title>140505446163712&#45;&gt;140505446159824</title>\n",
       "<path fill=\"none\" stroke=\"black\" d=\"M90.65,-144.76C86.29,-136.28 80.85,-125.71 75.96,-116.2\"/>\n",
       "<polygon fill=\"black\" stroke=\"black\" points=\"78.99,-114.44 71.3,-107.15 72.77,-117.64 78.99,-114.44\"/>\n",
       "</g>\n",
       "<!-- 140505446162608 -->\n",
       "<g id=\"node5\" class=\"node\">\n",
       "<title>140505446162608</title>\n",
       "<ellipse fill=\"none\" stroke=\"black\" cx=\"163\" cy=\"-90\" rx=\"55.49\" ry=\"18\"/>\n",
       "<text text-anchor=\"middle\" x=\"163\" y=\"-86.3\" font-family=\"Times,serif\" font-size=\"14.00\">groundwater</text>\n",
       "</g>\n",
       "<!-- 140505446162608&#45;&gt;140505446164624 -->\n",
       "<g id=\"edge4\" class=\"edge\">\n",
       "<title>140505446162608&#45;&gt;140505446164624</title>\n",
       "<path fill=\"none\" stroke=\"black\" d=\"M151.15,-72.41C144.81,-63.53 136.89,-52.44 129.91,-42.67\"/>\n",
       "<polygon fill=\"black\" stroke=\"black\" points=\"132.74,-40.61 124.08,-34.51 127.04,-44.68 132.74,-40.61\"/>\n",
       "</g>\n",
       "</g>\n",
       "</svg>\n"
      ],
      "text/plain": [
       "<graphviz.graphs.Digraph at 0x7fc9f9350400>"
      ]
     },
     "execution_count": 63,
     "metadata": {},
     "output_type": "execute_result"
    }
   ],
   "source": [
    "((Scalar(5) + Scalar(4)) / Reference(\"groundwater\")).visualize()"
   ]
  },
  {
   "cell_type": "code",
   "execution_count": 64,
   "id": "8a6ff023-a07a-410e-bb9a-9850cbe6fa6e",
   "metadata": {},
   "outputs": [
    {
     "data": {
      "image/svg+xml": [
       "<?xml version=\"1.0\" encoding=\"UTF-8\" standalone=\"no\"?>\n",
       "<!DOCTYPE svg PUBLIC \"-//W3C//DTD SVG 1.1//EN\"\n",
       " \"http://www.w3.org/Graphics/SVG/1.1/DTD/svg11.dtd\">\n",
       "<!-- Generated by graphviz version 4.0.0 (0)\n",
       " -->\n",
       "<!-- Pages: 1 -->\n",
       "<svg width=\"190pt\" height=\"116pt\"\n",
       " viewBox=\"0.00 0.00 190.25 116.00\" xmlns=\"http://www.w3.org/2000/svg\" xmlns:xlink=\"http://www.w3.org/1999/xlink\">\n",
       "<g id=\"graph0\" class=\"graph\" transform=\"scale(1 1) rotate(0) translate(4 112)\">\n",
       "<polygon fill=\"white\" stroke=\"transparent\" points=\"-4,4 -4,-112 186.25,-112 186.25,4 -4,4\"/>\n",
       "<!-- 140505446163088 -->\n",
       "<g id=\"node1\" class=\"node\">\n",
       "<title>140505446163088</title>\n",
       "<ellipse fill=\"none\" stroke=\"blue\" cx=\"105.25\" cy=\"-18\" rx=\"27\" ry=\"18\"/>\n",
       "<text text-anchor=\"middle\" x=\"105.25\" y=\"-14.3\" font-family=\"Times,serif\" font-size=\"14.00\">/</text>\n",
       "</g>\n",
       "<!-- 140505446165680 -->\n",
       "<g id=\"node2\" class=\"node\">\n",
       "<title>140505446165680</title>\n",
       "<ellipse fill=\"orange\" stroke=\"black\" cx=\"55.25\" cy=\"-90\" rx=\"55.49\" ry=\"18\"/>\n",
       "<text text-anchor=\"middle\" x=\"55.25\" y=\"-86.3\" font-family=\"Times,serif\" font-size=\"14.00\">groundwater</text>\n",
       "</g>\n",
       "<!-- 140505446165680&#45;&gt;140505446163088 -->\n",
       "<g id=\"edge1\" class=\"edge\">\n",
       "<title>140505446165680&#45;&gt;140505446163088</title>\n",
       "<path fill=\"none\" stroke=\"black\" d=\"M67.09,-72.41C73.44,-63.53 81.36,-52.44 88.34,-42.67\"/>\n",
       "<polygon fill=\"black\" stroke=\"black\" points=\"91.2,-44.68 94.17,-34.51 85.51,-40.61 91.2,-44.68\"/>\n",
       "</g>\n",
       "<!-- 140505446155408 -->\n",
       "<g id=\"node3\" class=\"node\">\n",
       "<title>140505446155408</title>\n",
       "<ellipse fill=\"none\" stroke=\"black\" cx=\"155.25\" cy=\"-90\" rx=\"27\" ry=\"18\"/>\n",
       "<text text-anchor=\"middle\" x=\"155.25\" y=\"-86.3\" font-family=\"Times,serif\" font-size=\"14.00\">2</text>\n",
       "</g>\n",
       "<!-- 140505446155408&#45;&gt;140505446163088 -->\n",
       "<g id=\"edge2\" class=\"edge\">\n",
       "<title>140505446155408&#45;&gt;140505446163088</title>\n",
       "<path fill=\"none\" stroke=\"black\" d=\"M144.15,-73.46C137.74,-64.49 129.54,-53.02 122.33,-42.92\"/>\n",
       "<polygon fill=\"black\" stroke=\"black\" points=\"124.97,-40.59 116.31,-34.49 119.28,-44.66 124.97,-40.59\"/>\n",
       "</g>\n",
       "</g>\n",
       "</svg>\n"
      ],
      "text/plain": [
       "<graphviz.graphs.Digraph at 0x7fc9f93515a0>"
      ]
     },
     "execution_count": 64,
     "metadata": {},
     "output_type": "execute_result"
    }
   ],
   "source": [
    "(Stock(name=\"groundwater\") / 2).visualize()"
   ]
  },
  {
   "cell_type": "code",
   "execution_count": 65,
   "id": "2684666f-9404-4bba-bcff-96445cc4551d",
   "metadata": {},
   "outputs": [
    {
     "data": {
      "text/plain": [
       "(* (/ \"groundwater\" 2) (+ 6 8))"
      ]
     },
     "execution_count": 65,
     "metadata": {},
     "output_type": "execute_result"
    }
   ],
   "source": [
    "t = Stock(name=\"groundwater\") / 2                        << \"YO! This is a comment!\"\n",
    "t = t * (Scalar(6) + Scalar(8) << \"random math\")         << \"This is just stuff\"\n",
    "t"
   ]
  },
  {
   "cell_type": "code",
   "execution_count": 66,
   "id": "1c7c4f45-85f9-42c5-a02b-d9b07a0dbde9",
   "metadata": {},
   "outputs": [
    {
     "data": {
      "text/plain": [
       "'This is just stuff'"
      ]
     },
     "execution_count": 66,
     "metadata": {},
     "output_type": "execute_result"
    }
   ],
   "source": [
    "t.comment"
   ]
  },
  {
   "cell_type": "code",
   "execution_count": 67,
   "id": "7f3b1f8a-3c23-467d-846d-5c6e8893b949",
   "metadata": {},
   "outputs": [
    {
     "name": "stdout",
     "output_type": "stream",
     "text": [
      "digraph {\n",
      "\tsubgraph cluster_commented140505446155696 {\n",
      "\tstyle=filled\n",
      "\tfillcolor=lightgrey\n",
      "\tlabel=\"This is just stuff\"\n",
      "\tlabelloc=b\n",
      "\t\t140505446155696 [label=\"*\" color=blue]\n",
      "\t\t140505446163232 -> 140505446155696\n",
      "\t\tsubgraph cluster_commented140505446163232 {\n",
      "\t\tstyle=filled\n",
      "\t\tfillcolor=pink\n",
      "\t\tlabel=\"YO! This is a comment!\"\n",
      "\t\tlabelloc=b\n",
      "\t\t\t140505446163232 [label=\"/\" color=blue]\n",
      "\t\t\t140505446163376 -> 140505446163232\n",
      "\t\t\t140505446163376 [label=groundwater fillcolor=orange style=filled]\n",
      "\t\t\t140505446164192 -> 140505446163232\n",
      "\t\t\t140505446164192 [label=2]\n",
      "\t\t}\n",
      "\t\t140505446164144 -> 140505446155696\n",
      "\t\tsubgraph cluster_commented140505446164144 {\n",
      "\t\tstyle=filled\n",
      "\t\tfillcolor=lightgreen\n",
      "\t\tlabel=\"random math\"\n",
      "\t\tlabelloc=b\n",
      "\t\t\t140505446164144 [label=\"+\" color=blue]\n",
      "\t\t\t140505446161504 -> 140505446164144\n",
      "\t\t\t140505446161504 [label=6]\n",
      "\t\t\t140505446162704 -> 140505446164144\n",
      "\t\t\t140505446162704 [label=8]\n",
      "\t\t}\n",
      "\t}\n",
      "}\n",
      "\n"
     ]
    }
   ],
   "source": [
    "print(t.visualize(comments=True))"
   ]
  },
  {
   "cell_type": "code",
   "execution_count": 70,
   "id": "340d2ee5-e70e-4183-ab4e-a2fb12096d71",
   "metadata": {},
   "outputs": [
    {
     "data": {
      "image/svg+xml": [
       "<?xml version=\"1.0\" encoding=\"UTF-8\" standalone=\"no\"?>\n",
       "<!DOCTYPE svg PUBLIC \"-//W3C//DTD SVG 1.1//EN\"\n",
       " \"http://www.w3.org/Graphics/SVG/1.1/DTD/svg11.dtd\">\n",
       "<!-- Generated by graphviz version 4.0.0 (0)\n",
       " -->\n",
       "<!-- Pages: 1 -->\n",
       "<svg width=\"388pt\" height=\"254pt\"\n",
       " viewBox=\"0.00 0.00 388.00 254.00\" xmlns=\"http://www.w3.org/2000/svg\" xmlns:xlink=\"http://www.w3.org/1999/xlink\">\n",
       "<g id=\"graph0\" class=\"graph\" transform=\"scale(1 1) rotate(0) translate(4 250)\">\n",
       "<polygon fill=\"white\" stroke=\"transparent\" points=\"-4,4 -4,-250 384,-250 384,4 -4,4\"/>\n",
       "<g id=\"clust1\" class=\"cluster\">\n",
       "<title>cluster_commented140505446155696</title>\n",
       "<polygon fill=\"lightgrey\" stroke=\"black\" points=\"8,-8 8,-238 372,-238 372,-8 8,-8\"/>\n",
       "<text text-anchor=\"middle\" x=\"190\" y=\"-15.8\" font-family=\"Times,serif\" font-size=\"14.00\">This is just stuff</text>\n",
       "</g>\n",
       "<g id=\"clust2\" class=\"cluster\">\n",
       "<title>cluster_commented140505446163232</title>\n",
       "<polygon fill=\"pink\" stroke=\"black\" points=\"166,-83 166,-230 364,-230 364,-83 166,-83\"/>\n",
       "<text text-anchor=\"middle\" x=\"265\" y=\"-90.8\" font-family=\"Times,serif\" font-size=\"14.00\">YO! This is a comment!</text>\n",
       "</g>\n",
       "<g id=\"clust3\" class=\"cluster\">\n",
       "<title>cluster_commented140505446164144</title>\n",
       "<polygon fill=\"lightgreen\" stroke=\"black\" points=\"16,-83 16,-230 158,-230 158,-83 16,-83\"/>\n",
       "<text text-anchor=\"middle\" x=\"87\" y=\"-90.8\" font-family=\"Times,serif\" font-size=\"14.00\">random math</text>\n",
       "</g>\n",
       "<!-- 140505446155696 -->\n",
       "<g id=\"node1\" class=\"node\">\n",
       "<title>140505446155696</title>\n",
       "<ellipse fill=\"none\" stroke=\"blue\" cx=\"162\" cy=\"-57\" rx=\"27\" ry=\"18\"/>\n",
       "<text text-anchor=\"middle\" x=\"162\" y=\"-53.3\" font-family=\"Times,serif\" font-size=\"14.00\">*</text>\n",
       "</g>\n",
       "<!-- 140505446163232 -->\n",
       "<g id=\"node2\" class=\"node\">\n",
       "<title>140505446163232</title>\n",
       "<ellipse fill=\"none\" stroke=\"blue\" cx=\"201\" cy=\"-132\" rx=\"27\" ry=\"18\"/>\n",
       "<text text-anchor=\"middle\" x=\"201\" y=\"-128.3\" font-family=\"Times,serif\" font-size=\"14.00\">/</text>\n",
       "</g>\n",
       "<!-- 140505446163232&#45;&gt;140505446155696 -->\n",
       "<g id=\"edge1\" class=\"edge\">\n",
       "<title>140505446163232&#45;&gt;140505446155696</title>\n",
       "<path fill=\"none\" stroke=\"black\" d=\"M192.34,-114.8C187.4,-105.54 181.08,-93.72 175.5,-83.26\"/>\n",
       "<polygon fill=\"black\" stroke=\"black\" points=\"178.43,-81.33 170.63,-74.16 172.26,-84.63 178.43,-81.33\"/>\n",
       "</g>\n",
       "<!-- 140505446163376 -->\n",
       "<g id=\"node3\" class=\"node\">\n",
       "<title>140505446163376</title>\n",
       "<ellipse fill=\"orange\" stroke=\"black\" cx=\"301\" cy=\"-204\" rx=\"55.49\" ry=\"18\"/>\n",
       "<text text-anchor=\"middle\" x=\"301\" y=\"-200.3\" font-family=\"Times,serif\" font-size=\"14.00\">groundwater</text>\n",
       "</g>\n",
       "<!-- 140505446163376&#45;&gt;140505446163232 -->\n",
       "<g id=\"edge2\" class=\"edge\">\n",
       "<title>140505446163376&#45;&gt;140505446163232</title>\n",
       "<path fill=\"none\" stroke=\"black\" d=\"M278.81,-187.46C263.66,-176.86 243.52,-162.76 227.52,-151.57\"/>\n",
       "<polygon fill=\"black\" stroke=\"black\" points=\"229.32,-148.55 219.12,-145.69 225.31,-154.29 229.32,-148.55\"/>\n",
       "</g>\n",
       "<!-- 140505446164192 -->\n",
       "<g id=\"node4\" class=\"node\">\n",
       "<title>140505446164192</title>\n",
       "<ellipse fill=\"none\" stroke=\"black\" cx=\"201\" cy=\"-204\" rx=\"27\" ry=\"18\"/>\n",
       "<text text-anchor=\"middle\" x=\"201\" y=\"-200.3\" font-family=\"Times,serif\" font-size=\"14.00\">2</text>\n",
       "</g>\n",
       "<!-- 140505446164192&#45;&gt;140505446163232 -->\n",
       "<g id=\"edge3\" class=\"edge\">\n",
       "<title>140505446164192&#45;&gt;140505446163232</title>\n",
       "<path fill=\"none\" stroke=\"black\" d=\"M201,-185.7C201,-177.98 201,-168.71 201,-160.11\"/>\n",
       "<polygon fill=\"black\" stroke=\"black\" points=\"204.5,-160.1 201,-150.1 197.5,-160.1 204.5,-160.1\"/>\n",
       "</g>\n",
       "<!-- 140505446164144 -->\n",
       "<g id=\"node5\" class=\"node\">\n",
       "<title>140505446164144</title>\n",
       "<ellipse fill=\"none\" stroke=\"blue\" cx=\"123\" cy=\"-132\" rx=\"27\" ry=\"18\"/>\n",
       "<text text-anchor=\"middle\" x=\"123\" y=\"-128.3\" font-family=\"Times,serif\" font-size=\"14.00\">+</text>\n",
       "</g>\n",
       "<!-- 140505446164144&#45;&gt;140505446155696 -->\n",
       "<g id=\"edge4\" class=\"edge\">\n",
       "<title>140505446164144&#45;&gt;140505446155696</title>\n",
       "<path fill=\"none\" stroke=\"black\" d=\"M131.66,-114.8C136.6,-105.54 142.92,-93.72 148.5,-83.26\"/>\n",
       "<polygon fill=\"black\" stroke=\"black\" points=\"151.74,-84.63 153.37,-74.16 145.57,-81.33 151.74,-84.63\"/>\n",
       "</g>\n",
       "<!-- 140505446161504 -->\n",
       "<g id=\"node6\" class=\"node\">\n",
       "<title>140505446161504</title>\n",
       "<ellipse fill=\"none\" stroke=\"black\" cx=\"123\" cy=\"-204\" rx=\"27\" ry=\"18\"/>\n",
       "<text text-anchor=\"middle\" x=\"123\" y=\"-200.3\" font-family=\"Times,serif\" font-size=\"14.00\">6</text>\n",
       "</g>\n",
       "<!-- 140505446161504&#45;&gt;140505446164144 -->\n",
       "<g id=\"edge5\" class=\"edge\">\n",
       "<title>140505446161504&#45;&gt;140505446164144</title>\n",
       "<path fill=\"none\" stroke=\"black\" d=\"M123,-185.7C123,-177.98 123,-168.71 123,-160.11\"/>\n",
       "<polygon fill=\"black\" stroke=\"black\" points=\"126.5,-160.1 123,-150.1 119.5,-160.1 126.5,-160.1\"/>\n",
       "</g>\n",
       "<!-- 140505446162704 -->\n",
       "<g id=\"node7\" class=\"node\">\n",
       "<title>140505446162704</title>\n",
       "<ellipse fill=\"none\" stroke=\"black\" cx=\"51\" cy=\"-204\" rx=\"27\" ry=\"18\"/>\n",
       "<text text-anchor=\"middle\" x=\"51\" y=\"-200.3\" font-family=\"Times,serif\" font-size=\"14.00\">8</text>\n",
       "</g>\n",
       "<!-- 140505446162704&#45;&gt;140505446164144 -->\n",
       "<g id=\"edge6\" class=\"edge\">\n",
       "<title>140505446162704&#45;&gt;140505446164144</title>\n",
       "<path fill=\"none\" stroke=\"black\" d=\"M65.57,-188.83C75.75,-178.94 89.52,-165.55 101.03,-154.36\"/>\n",
       "<polygon fill=\"black\" stroke=\"black\" points=\"103.47,-156.87 108.2,-147.38 98.59,-151.85 103.47,-156.87\"/>\n",
       "</g>\n",
       "</g>\n",
       "</svg>\n"
      ],
      "text/plain": [
       "<graphviz.graphs.Digraph at 0x7fc9f9352fe0>"
      ]
     },
     "execution_count": 70,
     "metadata": {},
     "output_type": "execute_result"
    }
   ],
   "source": [
    "t.visualize(comments=True)"
   ]
  },
  {
   "cell_type": "code",
   "execution_count": 71,
   "id": "117f6a09-961f-4776-bf0b-5893008dec0f",
   "metadata": {},
   "outputs": [
    {
     "data": {
      "image/svg+xml": [
       "<?xml version=\"1.0\" encoding=\"UTF-8\" standalone=\"no\"?>\n",
       "<!DOCTYPE svg PUBLIC \"-//W3C//DTD SVG 1.1//EN\"\n",
       " \"http://www.w3.org/Graphics/SVG/1.1/DTD/svg11.dtd\">\n",
       "<!-- Generated by graphviz version 4.0.0 (0)\n",
       " -->\n",
       "<!-- Pages: 1 -->\n",
       "<svg width=\"180pt\" height=\"188pt\"\n",
       " viewBox=\"0.00 0.00 180.00 188.00\" xmlns=\"http://www.w3.org/2000/svg\" xmlns:xlink=\"http://www.w3.org/1999/xlink\">\n",
       "<g id=\"graph0\" class=\"graph\" transform=\"scale(1 1) rotate(0) translate(4 184)\">\n",
       "<polygon fill=\"white\" stroke=\"transparent\" points=\"-4,4 -4,-184 176,-184 176,4 -4,4\"/>\n",
       "<!-- 140505446154784 -->\n",
       "<g id=\"node1\" class=\"node\">\n",
       "<title>140505446154784</title>\n",
       "<ellipse fill=\"none\" stroke=\"blue\" cx=\"63\" cy=\"-18\" rx=\"27\" ry=\"18\"/>\n",
       "<text text-anchor=\"middle\" x=\"63\" y=\"-14.3\" font-family=\"Times,serif\" font-size=\"14.00\">+</text>\n",
       "</g>\n",
       "<!-- 140505446160208 -->\n",
       "<g id=\"node2\" class=\"node\">\n",
       "<title>140505446160208</title>\n",
       "<ellipse fill=\"orange\" stroke=\"black\" cx=\"27\" cy=\"-90\" rx=\"27\" ry=\"18\"/>\n",
       "<text text-anchor=\"middle\" x=\"27\" y=\"-86.3\" font-family=\"Times,serif\" font-size=\"14.00\">rain</text>\n",
       "</g>\n",
       "<!-- 140505446160208&#45;&gt;140505446154784 -->\n",
       "<g id=\"edge1\" class=\"edge\">\n",
       "<title>140505446160208&#45;&gt;140505446154784</title>\n",
       "<path fill=\"none\" stroke=\"black\" d=\"M35.35,-72.76C39.71,-64.28 45.15,-53.71 50.04,-44.2\"/>\n",
       "<polygon fill=\"black\" stroke=\"black\" points=\"53.23,-45.64 54.7,-35.15 47.01,-42.44 53.23,-45.64\"/>\n",
       "</g>\n",
       "<!-- 140505446160832 -->\n",
       "<g id=\"node3\" class=\"node\">\n",
       "<title>140505446160832</title>\n",
       "<ellipse fill=\"none\" stroke=\"blue\" cx=\"99\" cy=\"-90\" rx=\"27\" ry=\"18\"/>\n",
       "<text text-anchor=\"middle\" x=\"99\" y=\"-86.3\" font-family=\"Times,serif\" font-size=\"14.00\">*</text>\n",
       "</g>\n",
       "<!-- 140505446160832&#45;&gt;140505446154784 -->\n",
       "<g id=\"edge2\" class=\"edge\">\n",
       "<title>140505446160832&#45;&gt;140505446154784</title>\n",
       "<path fill=\"none\" stroke=\"black\" d=\"M90.65,-72.76C86.29,-64.28 80.85,-53.71 75.96,-44.2\"/>\n",
       "<polygon fill=\"black\" stroke=\"black\" points=\"78.99,-42.44 71.3,-35.15 72.77,-45.64 78.99,-42.44\"/>\n",
       "</g>\n",
       "<!-- 140505446165440 -->\n",
       "<g id=\"node4\" class=\"node\">\n",
       "<title>140505446165440</title>\n",
       "<ellipse fill=\"orange\" stroke=\"black\" cx=\"53\" cy=\"-162\" rx=\"47.39\" ry=\"18\"/>\n",
       "<text text-anchor=\"middle\" x=\"53\" y=\"-158.3\" font-family=\"Times,serif\" font-size=\"14.00\">vegetation</text>\n",
       "</g>\n",
       "<!-- 140505446165440&#45;&gt;140505446160832 -->\n",
       "<g id=\"edge3\" class=\"edge\">\n",
       "<title>140505446165440&#45;&gt;140505446160832</title>\n",
       "<path fill=\"none\" stroke=\"black\" d=\"M63.9,-144.41C69.6,-135.74 76.68,-124.97 82.98,-115.38\"/>\n",
       "<polygon fill=\"black\" stroke=\"black\" points=\"85.93,-117.27 88.49,-106.99 80.08,-113.42 85.93,-117.27\"/>\n",
       "</g>\n",
       "<!-- 140505446160304 -->\n",
       "<g id=\"node5\" class=\"node\">\n",
       "<title>140505446160304</title>\n",
       "<ellipse fill=\"none\" stroke=\"black\" cx=\"145\" cy=\"-162\" rx=\"27\" ry=\"18\"/>\n",
       "<text text-anchor=\"middle\" x=\"145\" y=\"-158.3\" font-family=\"Times,serif\" font-size=\"14.00\">0.2</text>\n",
       "</g>\n",
       "<!-- 140505446160304&#45;&gt;140505446160832 -->\n",
       "<g id=\"edge4\" class=\"edge\">\n",
       "<title>140505446160304&#45;&gt;140505446160832</title>\n",
       "<path fill=\"none\" stroke=\"black\" d=\"M134.56,-145.12C128.8,-136.34 121.52,-125.26 115.04,-115.42\"/>\n",
       "<polygon fill=\"black\" stroke=\"black\" points=\"117.81,-113.26 109.4,-106.82 111.96,-117.1 117.81,-113.26\"/>\n",
       "</g>\n",
       "</g>\n",
       "</svg>\n"
      ],
      "text/plain": [
       "<graphviz.graphs.Digraph at 0x7fc9f9352c20>"
      ]
     },
     "execution_count": 71,
     "metadata": {},
     "output_type": "execute_result"
    }
   ],
   "source": [
    "rain = Stock(name=\"rain\")\n",
    "rain = rain + Stock(name=\"vegetation\") * 0.2\n",
    "rain.visualize()"
   ]
  },
  {
   "cell_type": "code",
   "execution_count": 72,
   "id": "fc601ab5-6946-4a1d-9e1a-d079737fb743",
   "metadata": {},
   "outputs": [],
   "source": [
    "from ipywidgets import HBox, Output, VBox\n",
    "from IPython.display import display\n",
    "\n",
    "def cols(*things):\n",
    "    displays = []\n",
    "    for thing in things:\n",
    "        out = Output()\n",
    "        with out:\n",
    "            display(thing)\n",
    "        displays.append(out)\n",
    "        \n",
    "    return HBox(displays)\n",
    "\n",
    "def rows(*things):\n",
    "    displays = []\n",
    "    for thing in things:\n",
    "        out = Output()\n",
    "        with out:\n",
    "            display(thing)\n",
    "        displays.append(out)\n",
    "        \n",
    "    return VBox(displays)"
   ]
  },
  {
   "cell_type": "code",
   "execution_count": 73,
   "id": "fcdd97c7-b62e-41f3-81b2-3bea59157df8",
   "metadata": {},
   "outputs": [
    {
     "data": {
      "application/vnd.jupyter.widget-view+json": {
       "model_id": "c84f14dfe1e2439783ec86183e24b727",
       "version_major": 2,
       "version_minor": 0
      },
      "text/plain": [
       "HBox(children=(Output(), Output(), Output()))"
      ]
     },
     "metadata": {},
     "output_type": "display_data"
    }
   ],
   "source": [
    "# comments can be added with <<\n",
    "rain = Stock(name=\"vegetation\") * 0.2    << \"Evaporation from plants\"\n",
    "rain = rain + 14                         << \"A base rate amount of rain, or something\"\n",
    "rain = rain - Flow(name=\"runoff\")        << \"Some of it drains away\"\n",
    "\n",
    "# alternative version without \"comments\"\n",
    "rain_single = Stock(name=\"vegetation\") * 0.2 + 14 - Flow(name=\"runoff\")\n",
    "\n",
    "cols(rain.visualize(), rain.visualize(comments=True), rain_single.latex())"
   ]
  },
  {
   "cell_type": "code",
   "execution_count": 74,
   "id": "43aab45c-def3-4ef4-b15d-e70f295d19aa",
   "metadata": {},
   "outputs": [
    {
     "data": {
      "text/markdown": [
       "$\\overbrace{\\underbrace{\\overbrace{\\mathit{vegetation}*0.2}^{\\texttt{Evaporation from plants}}+14}_{\\texttt{A base rate amount of rain, or something}}-\\mathit{runoff}}^{\\texttt{Some of it drains away}}$"
      ],
      "text/plain": [
       "<IPython.core.display.Markdown object>"
      ]
     },
     "execution_count": 74,
     "metadata": {},
     "output_type": "execute_result"
    }
   ],
   "source": [
    "rain.latex(annotations=True)"
   ]
  },
  {
   "cell_type": "markdown",
   "id": "931626a8-264a-4418-860c-3493230b6a15",
   "metadata": {},
   "source": [
    "$$\n",
    "1 + \\overbrace{3}^{\\texttt{this is all just a test}}\n",
    "$$"
   ]
  },
  {
   "cell_type": "code",
   "execution_count": null,
   "id": "bc5d496b-a63b-4c08-86a0-7a98e0d05731",
   "metadata": {},
   "outputs": [],
   "source": [
    "(Stock(name=\"vegetation\") * 0.2 + 14 - Flow(name=\"runoff\")).latex()"
   ]
  },
  {
   "cell_type": "code",
   "execution_count": null,
   "id": "74befe8d-6818-4d27-be06-f43496f0fd8c",
   "metadata": {},
   "outputs": [],
   "source": [
    "(Scalar(1) + Stock(name=\"vegetation\") * 0.2).latex_str()"
   ]
  },
  {
   "cell_type": "code",
   "execution_count": null,
   "id": "5ea23c1b-5ea0-4eba-87b3-994a6008b701",
   "metadata": {},
   "outputs": [],
   "source": [
    "(Stock(name=\"vegetation\") * 5).latex_str()"
   ]
  },
  {
   "cell_type": "code",
   "execution_count": null,
   "id": "e5a8c3c3-e201-467f-a399-46af4781310b",
   "metadata": {},
   "outputs": [],
   "source": [
    "class Model:\n",
    "    def __init__(self):\n",
    "        self.things = {}\n",
    "        \n",
    "    # actually, as long as operations return a new thing, this should just work.\n",
    "    def __setattr__(self, name, value):\n",
    "        if name not in self.things:\n",
    "            self.things[name] = value\n",
    "        else:\n",
    "            # don't actually overwrite, this is returnning a compute graph\n",
    "            self.things[name] = self.things[name] + value\n",
    "            # TODO: we need the operations to also return a non-compute system symbolic graph? Or can this always be inferred from the compute graph and the list of names/stocks/flows we have in model?\n",
    "            # the latter. We just need to find all reference nodes, and that means there's an edge from that reference node _to_ the current node.\n",
    "            \n",
    "            # this also means you can define the formula for a value in pieces, and it will assume you're adding them all together. (this also allows documenting specific portions)\n",
    "            \n",
    "    def _compile(self):\n",
    "        \"\"\"Write optimized jax operation list for computations into python file?\"\"\"\n",
    "        pass"
   ]
  },
  {
   "cell_type": "code",
   "execution_count": null,
   "id": "c007b397-7603-49e2-9b67-2643963c36e7",
   "metadata": {},
   "outputs": [],
   "source": [
    "\n",
    "\n",
    "\n",
    "\n",
    "\n",
    "m = Model()\n",
    "\n",
    "m.clouds = Stock()\n",
    "m.groundwater = Stock()\n",
    "m.food = Stock()\n",
    "\n",
    "m.food = (m.clouds + 3) * m.groundwater # an implicit flow?\n",
    "\n",
    "\n",
    "\n"
   ]
  },
  {
   "cell_type": "code",
   "execution_count": null,
   "id": "8a8b8682-5f3c-4712-a019-a188029d53b5",
   "metadata": {},
   "outputs": [],
   "source": [
    "# how do we model moving values from one stock to another?\n",
    "\n",
    "\n",
    "# involves one stock starting with an initial value, a flow, and another stock.\n",
    "\n",
    "m = Model()\n",
    "m.from_stock = Stock()     << \"some other comment?\"\n",
    "m.to_stock = Stock()\n",
    "m.movement_flow = Flow()\n",
    "\n",
    "\n",
    "#m.flow(from_stock, to_stock, m.from_stock / 2)\n",
    "#m.to_stock <= m.from_stock / 2 # I think beyond simple cases it's too hard to imply what it's actually being removed \"from\"\n",
    "\n",
    "# a flow implies things leaving one stock and entering another.\n",
    "\n",
    "\n",
    "# way too verbose\n",
    "m.to_stock[m.t+1] = m.to_stock[m.t] + m.from_stock[m.t] / 2\n",
    "m.from_stock[m.t+1] = m.to_stock[m.t] + m.from_stock[m.t] / 2\n",
    "\n",
    "# more obvious directionality, but dislike\n",
    "m.movement_flow <= m.from_stock / 2\n",
    "m.to_stock <= m.movement_flow\n",
    "\n",
    "# from https://en.wikipedia.org/wiki/Stock_and_flow\n",
    "# \"stock\" = \"level\"\n",
    "# \"flow\" = \"rate\"\n",
    "# I prefer their \"order of execution\" translation formulas.\n",
    "# -----------------------------------\n",
    "m.movement_flow = m.from_stock / 2\n",
    "m.from_stock -= m.movement_flow\n",
    "m.to_stock += m.movement_flow\n",
    "# -----------------------------------\n",
    "# or (technically the more integral-y form, an implicit 'dt')\n",
    "# -----------------------------------\n",
    "m.movement_flow = m.from_stock / 2    << \"this is a test\"                               # two nodes: \"from_stock\" \"/ 2\"\n",
    "m.from_stock = -m.movement_flow       << \"We move out of from stock\"\n",
    "m.to_stock = m.movement_flow          << \"And into the to stock\"\n",
    "# -----------------------------------\n",
    "# then we can set initial conditions by overriding __getitem__:\n",
    "m.from_stock[0] = 10 # if we want to hold it static?\n",
    "\n",
    "\n"
   ]
  },
  {
   "cell_type": "code",
   "execution_count": null,
   "id": "007b6677-1d56-4f7d-b41c-25ab7b061331",
   "metadata": {},
   "outputs": [],
   "source": [
    "# how do we manage probabilistic events?\n",
    "\n",
    "m.groundwater_capacity = Variable()\n",
    "m.groundwater = Stock()\n",
    "m.fire = Event()\n",
    "m.fire.P = .01 + 1 / (m.groundwater_capacity - m.groundwater)"
   ]
  }
 ],
 "metadata": {
  "kernelspec": {
   "display_name": "Python 3 (ipykernel)",
   "language": "python",
   "name": "python3"
  },
  "language_info": {
   "codemirror_mode": {
    "name": "ipython",
    "version": 3
   },
   "file_extension": ".py",
   "mimetype": "text/x-python",
   "name": "python",
   "nbconvert_exporter": "python",
   "pygments_lexer": "ipython3",
   "version": "3.10.5"
  }
 },
 "nbformat": 4,
 "nbformat_minor": 5
}
