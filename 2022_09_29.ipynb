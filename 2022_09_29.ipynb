{
 "cells": [
  {
   "cell_type": "code",
   "execution_count": null,
   "id": "a4fb3ef7-1b4f-419c-9812-46e44b48dce2",
   "metadata": {},
   "outputs": [],
   "source": []
  },
  {
   "cell_type": "code",
   "execution_count": 4,
   "id": "9c07b091-5436-404d-89a5-4969c2689a2c",
   "metadata": {},
   "outputs": [],
   "source": [
    "class Stock:\n",
    "    def __add__(self, other):\n",
    "        # add an addition node to the tree\n",
    "        pass"
   ]
  },
  {
   "cell_type": "code",
   "execution_count": 6,
   "id": "a97b7bfb-c51b-4011-a1ac-8def61538d49",
   "metadata": {},
   "outputs": [],
   "source": [
    "clouds = Stock()\n",
    "groundwater = Stock()\n",
    "food = Stock()"
   ]
  },
  {
   "cell_type": "code",
   "execution_count": 7,
   "id": "a5fec000-bd79-4398-b201-578424e01c79",
   "metadata": {},
   "outputs": [],
   "source": [
    "food = [groundwater]*2"
   ]
  },
  {
   "cell_type": "code",
   "execution_count": null,
   "id": "4934488c-2e54-4865-8805-3f071fb2c293",
   "metadata": {},
   "outputs": [],
   "source": [
    "food |= (~clouds + 3) * groundwater\n",
    "\n",
    "\n",
    "food <= (~clouds + 3) * groundwater"
   ]
  }
 ],
 "metadata": {
  "kernelspec": {
   "display_name": "Python 3 (ipykernel)",
   "language": "python",
   "name": "python3"
  },
  "language_info": {
   "codemirror_mode": {
    "name": "ipython",
    "version": 3
   },
   "file_extension": ".py",
   "mimetype": "text/x-python",
   "name": "python",
   "nbconvert_exporter": "python",
   "pygments_lexer": "ipython3",
   "version": "3.10.5"
  }
 },
 "nbformat": 4,
 "nbformat_minor": 5
}
