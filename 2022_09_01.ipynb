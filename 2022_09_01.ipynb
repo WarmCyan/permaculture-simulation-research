{
 "cells": [
  {
   "cell_type": "markdown",
   "id": "2abb7455-6095-4437-9fbf-f93797c7c785",
   "metadata": {},
   "source": [
    "# Model for Rain/Groundwater/Vegetation coverage system"
   ]
  },
  {
   "cell_type": "markdown",
   "id": "0a10e1f9-ca49-406e-b5b3-28f2a8f8fa79",
   "metadata": {},
   "source": [
    "## Assumptions\n",
    "* As rain occurs, groundwater increases\n",
    "* Prior assumption of likelihood of rain \n",
    "* groundwater and \"rain potential\" are \"buckets\"\n",
    "* groundwater, if \"full\" but still raining, remnant is \"runoff\" (flooding for later)\n",
    "* Too much runoff decreases vegetation coverage\n",
    "* as vegetation coverage increase, evaporation (humidity) increases rain bucket\n",
    "* as Vegetation coverage increases, \"drains\" groundwater bucket but increase size of groundwater bucket\n",
    "* We can also prior assumption assume rain \"bucket\" is at least influenced by sin (external effects)\n",
    "\n",
    "\n",
    "## Add later\n",
    "\n",
    "* Rain is an event where starting and stopping has some probability based on the current bucket level\n",
    "* As rain decreases _likelihood_ of fire increases\n",
    "* Vegetation overpopulation will self-limit to some extent (separate system?)\n",
    "* Limits"
   ]
  },
  {
   "cell_type": "markdown",
   "id": "0181d67e-676b-4183-af4c-55bd60b72a6f",
   "metadata": {},
   "source": [
    "## Mathy business\n",
    "\n",
    "\n",
    "* $b_r$, rain bucket\n",
    "* $b_g$, groundwater bucket\n",
    "* $v$, vegetation\n",
    "* $n$, ru<b>n</b>off\n",
    "\n",
    "### coefficients\n",
    "* $r_e$, evaporation rate\n",
    "* $r_r$, rain rate\n",
    "* $r_g$, groundwater usage rate\n",
    "* $l_r$, prior likelihood of rain (defined by a sin function) (amplitude, offset, frequency)\n",
    "* $r_c$, runoff cleansing rate\n",
    "* $r_s$, runoff spill\n",
    "\n",
    "\n",
    "### Starting conditions\n",
    "* $v(0)$, initial vegetation\n",
    "* $b_r(0)$, initial rain bucket\n",
    "* $b_g(0)$, initial groundwater bucket"
   ]
  },
  {
   "cell_type": "markdown",
   "id": "0dbf5db8-526c-45d1-9727-468deb996987",
   "metadata": {},
   "source": [
    "## Formulas\n",
    "\n",
    "* $b_r(t) = r_e\\cdot v(t) + l_r(t) - r_r$\n",
    "* $v(t) = r_g\\cdot b_g(t) - r_c\\cdot n(t)$\n",
    "* $b_g(t) = r_r\\cdot b_r(t) - r_g\\cdot v(t)$\n",
    "* $n(t) = r_s\\cdot b_g(t) - v(t)$\n",
    "\n",
    "(all $t$'s on right side are actually $t-1$)"
   ]
  },
  {
   "cell_type": "markdown",
   "id": "38eaaefd-fecf-43e4-a1f0-057d60c22742",
   "metadata": {},
   "source": [
    "https://insightmaker.com/insight/5LuinsByU9RToTCLN8UspW/Predator-Prey-Interactions"
   ]
  },
  {
   "cell_type": "markdown",
   "id": "33dcd879-3760-41cd-aafe-1ced85d3d441",
   "metadata": {},
   "source": [
    "# Notes for next time\n",
    "\n",
    "We should prob use this terminology, and this is useful to reference: https://insightmaker.com/primitives  \n",
    "Insight maker's code (ish) is available: https://github.com/scottfr/simulation  \n",
    "There's a whitepaper here discussing hybrid models of system dynamics, agent-based, and discrete event modeling which sounds fascinating because that's exactly what I want to do   \n",
    "https://www.anylogic.com/use-of-simulation/system-dynamics/  \n",
    "\n",
    "we could prob draw inspiration from anylogic, it sounds really interesting, they allow defining system dynamics hierarchically/OOP style, exposing only what's necessary for abstraction the next layer up"
   ]
  },
  {
   "cell_type": "code",
   "execution_count": null,
   "id": "18a46105-8190-4518-9f35-de89282d0b9c",
   "metadata": {},
   "outputs": [],
   "source": []
  }
 ],
 "metadata": {
  "kernelspec": {
   "display_name": "Python 3 (ipykernel)",
   "language": "python",
   "name": "python3"
  },
  "language_info": {
   "codemirror_mode": {
    "name": "ipython",
    "version": 3
   },
   "file_extension": ".py",
   "mimetype": "text/x-python",
   "name": "python",
   "nbconvert_exporter": "python",
   "pygments_lexer": "ipython3",
   "version": "3.10.5"
  }
 },
 "nbformat": 4,
 "nbformat_minor": 5
}
